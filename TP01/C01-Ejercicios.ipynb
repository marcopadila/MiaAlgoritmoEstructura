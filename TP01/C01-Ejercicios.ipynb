{
 "cells": [
  {
   "cell_type": "markdown",
   "id": "90361652",
   "metadata": {},
   "source": [
    "# Ejercitación básica"
   ]
  },
  {
   "cell_type": "markdown",
   "id": "7ff5d4c9",
   "metadata": {},
   "source": [
    "### **Ejercicio 1**. Dar algoritmos para resolver los siguientes problemas y determinar su complejidad temporal y espacial en peor caso:"
   ]
  },
  {
   "cell_type": "markdown",
   "id": "f620e88e",
   "metadata": {},
   "source": [
    "#### a) Hallar el máximo de un arreglo de n enteros."
   ]
  },
  {
   "cell_type": "code",
   "execution_count": 1,
   "id": "2d65ef5e",
   "metadata": {},
   "outputs": [
    {
     "name": "stdout",
     "output_type": "stream",
     "text": [
      "El máximo del arreglo es: 199\n"
     ]
    }
   ],
   "source": [
    "def hallar_maximo_arreglo(arreglo):\n",
    "    if not arreglo:\n",
    "        return None\n",
    "    \n",
    "    maximo = arreglo[0]\n",
    "    for item in arreglo:\n",
    "        if item > maximo:\n",
    "            maximo = item\n",
    "    return maximo\n",
    "\n",
    "arreglo = [199, 2, 43, 1, 18, 55, 23, 32, 99]\n",
    "print(\"El máximo del arreglo es:\", hallar_maximo_arreglo(arreglo))\n"
   ]
  },
  {
   "cell_type": "markdown",
   "id": "4d0893b5",
   "metadata": {},
   "source": [
    "#### b) Hallar los k números más grandes de un arreglo de n enteros."
   ]
  },
  {
   "cell_type": "code",
   "execution_count": 16,
   "id": "e224c747",
   "metadata": {},
   "outputs": [
    {
     "name": "stdout",
     "output_type": "stream",
     "text": [
      "Los 3 máximos del arreglo son: [300, 199]\n"
     ]
    }
   ],
   "source": [
    "def hallar_k_maximos_arreglo(arreglo, k):\n",
    "    if not arreglo or k <= 0:\n",
    "        return []\n",
    "    \n",
    "    n = len(arreglo)\n",
    "    for i in range(n):\n",
    "        for j in range(i + 1, n):\n",
    "            if arreglo[i] < arreglo[j]:\n",
    "                arreglo[i], arreglo[j] = arreglo[j], arreglo[i]\n",
    "    \n",
    "    return arreglo[:k]\n",
    "\n",
    "arreglo = [199, 2, 43, 1, 18, 55, 23, 32, 99, 300]\n",
    "print(\"Los 3 máximos del arreglo son:\", hallar_k_maximos_arreglo(arreglo, 2))"
   ]
  },
  {
   "cell_type": "markdown",
   "id": "ab5a51e9",
   "metadata": {},
   "source": [
    "#### c) Dados dos arreglos de enteros A y B, determinar cuál es más largo."
   ]
  },
  {
   "cell_type": "code",
   "execution_count": 17,
   "id": "14e1c7dc",
   "metadata": {},
   "outputs": [
    {
     "name": "stdout",
     "output_type": "stream",
     "text": [
      "El arreglo más largo es: [199, 2, 43, 1, 18, 55, 23, 32, 99, 300]\n"
     ]
    }
   ],
   "source": [
    "def arreglo_mas_largo(arreglo_1, arreglo_2):\n",
    "    if not arreglo_1 and not arreglo_2:\n",
    "        return None\n",
    "    if not arreglo_1:\n",
    "        return arreglo_2\n",
    "    if not arreglo_2:\n",
    "        return arreglo_1\n",
    "    \n",
    "    if len(arreglo_1) >= len(arreglo_2):\n",
    "        return arreglo_1\n",
    "    else:\n",
    "        return arreglo_2\n",
    "    \n",
    "arreglo_1 = [199, 2, 43, 1, 18, 55, 23, 32, 99, 300]\n",
    "arreglo_2 = [33, 2, 1, 19]\n",
    "print(\"El arreglo más largo es:\", arreglo_mas_largo(arreglo_1, arreglo_2))"
   ]
  },
  {
   "cell_type": "markdown",
   "id": "f88fc135",
   "metadata": {},
   "source": [
    "#### d) Dados dos arreglos de enteros A y B, determinar cuántos elementos de A aparecen también en B."
   ]
  },
  {
   "cell_type": "code",
   "execution_count": 21,
   "id": "140e15d0",
   "metadata": {},
   "outputs": [
    {
     "name": "stdout",
     "output_type": "stream",
     "text": [
      "Los elementos comunes son: 3\n"
     ]
    }
   ],
   "source": [
    "def elementos_comunes(arreglo_1, arreglo_2):\n",
    "    if not arreglo_1 or not arreglo_2:\n",
    "        return []\n",
    "    \n",
    "    elementos_comunes = []\n",
    "    for item in arreglo_1:\n",
    "        if item in arreglo_2 and item not in elementos_comunes:\n",
    "            elementos_comunes.append(item)\n",
    "    \n",
    "    return len(elementos_comunes)\n",
    "\n",
    "arreglo_1 = [199, 2, 43, 1, 18, 55, 23, 32, 99, 300]\n",
    "arreglo_2 = [33, 2, 1, 19, 199]\n",
    "print(\"Los elementos comunes son:\", elementos_comunes(arreglo_1, arreglo_2))\n"
   ]
  }
 ],
 "metadata": {
  "kernelspec": {
   "display_name": "Python 3",
   "language": "python",
   "name": "python3"
  },
  "language_info": {
   "codemirror_mode": {
    "name": "ipython",
    "version": 3
   },
   "file_extension": ".py",
   "mimetype": "text/x-python",
   "name": "python",
   "nbconvert_exporter": "python",
   "pygments_lexer": "ipython3",
   "version": "3.11.9"
  }
 },
 "nbformat": 4,
 "nbformat_minor": 5
}
